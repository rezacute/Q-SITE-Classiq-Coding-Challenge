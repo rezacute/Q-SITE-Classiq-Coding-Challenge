{
 "cells": [
  {
   "cell_type": "markdown",
   "metadata": {},
   "source": [
    "# Q-SITE Classiq Coding Challenge - Lab 2"
   ]
  },
  {
   "cell_type": "markdown",
   "metadata": {},
   "source": [
    "### Second Challenge: Mastering Phase Kickback with Classiq"
   ]
  },
  {
   "cell_type": "markdown",
   "metadata": {},
   "source": [
    "---\n",
    "### Objective:\n",
    "Welcome to the Quantum Chemistry Challenge! Your task is to harness the power of the phase kickback primitive—a crucial operation in quantum computing—to manipulate and extract data smartly through constructive and destructive interference. You will implement phase kickback to observe its effects on quantum states, using Classiq’s powerful quantum programming framework.\n",
    "\n",
    "---\n"
   ]
  },
  {
   "cell_type": "markdown",
   "metadata": {},
   "source": [
    "### **Phase Kickback in Quantum Computing**\n",
    "hase kickback is a fundamental and widely used primitive in quantum computing. It is a process where the result of a function is transferred to the phase of a quantum state. This transfer is crucial because it allows the phase to be manipulated using constructive and destructive interference, leading to the desired computational outcome.\n",
    "\n",
    "In quantum computing, algorithms are generally structured into three key steps:\n",
    "1. **Encoding the Data:** Preparing the quantum states with the necessary information.\n",
    "2. **Manipulating the Data:** Applying quantum operations that process the encoded information.\n",
    "3. **Extracting the Result:** Measuring the quantum states to obtain the final result.\n",
    "\n",
    "Phase kickback plays a critical role in the manipulation stage, enabling the accurate extraction of results by influencing the phase of quantum states.\n",
    "\n",
    "### **How Does Phase Kickback Work?**\n",
    "\n",
    "The standard way to apply a classical function $f : \\{0, 1\\}^n \\rightarrow \\{0, 1\\}$ on quantum states is by using the oracle model. In this model, the oracle $O_f$ acts on quantum states $|x\\rangle$ and $|y\\rangle$ as follows:\n",
    "$\n",
    "O_f(|x\\rangle|y\\rangle) = |x\\rangle|y \\oplus f(x)\\rangle\n",
    "$\n",
    "Here, $|x\\rangle$ and $|y\\rangle$ are the argument and target quantum states, respectively, and $\\oplus$ represents addition modulo 2 or the XOR operation.\n",
    "\n",
    "The phase kickback primitive takes this oracle $O_f$ as input and performs the operation:\n",
    "$\n",
    "|x\\rangle \\rightarrow (-1)^{f(x)}|x\\rangle\n",
    "$\n",
    "This operation can be applied to a superposition of states:\n",
    "$\n",
    "\\sum_{i=0}^{2^n-1} \\alpha_i |x_i\\rangle \\rightarrow \\sum_{i=0}^{2^n-1} (-1)^{f(x_i)} \\alpha_i |x_i\\rangle\n",
    "$\n",
    "where $\\alpha_i$ is the amplitude of the state $|x_i\\rangle$.\n",
    "\n",
    "### **Why is Phase Kickback Important?**\n",
    "\n",
    "The beauty of phase kickback lies in its simplicity. By applying the oracle $O_f$ to the target quantum state $|-\\rangle = \\frac{1}{\\sqrt{2}} (|0\\rangle - |1\\rangle)$, we get:\n",
    "$\n",
    "O_f(|x\\rangle|-\\rangle) = (-1)^{f(x)}|x\\rangle|-\\rangle\n",
    "$\n",
    "This effectively achieves the desired transformation:\n",
    "$\n",
    "|x\\rangle \\rightarrow (-1)^{f(x)}|x\\rangle\n",
    "$\n",
    "Through this mechanism, the phase of the quantum state $|x\\rangle$ is modified based on the function $f(x)$, which is essential in many quantum algorithms such as the Deutsch-Jozsa and Simon's algorithms.\n",
    "\n",
    "### **Challenge Overview**\n",
    "\n",
    "In this challenge, you will implement phase kickback using Classiq's quantum programming framework. You'll construct a quantum circuit that leverages phase kickback to manipulate quantum states, applying the principles described above. This exercise will help you understand the power of phase manipulation in quantum computing and its applications in various quantum algorithms.\n",
    "\n",
    "Now, let's dive into coding and see phase kickback in action!"
   ]
  },
  {
   "cell_type": "markdown",
   "metadata": {},
   "source": [
    "### **Step 1: Preparing the Minus State**\n",
    "\n",
    "The first step in implementing phase kickback is to prepare the $|-\\rangle$ state. This state is crucial because it serves as the control qubit that will experience the phase kickback.\n",
    "\n",
    "**Mathematical Concept:**\n",
    "- The $|-\\rangle$ state is created by first applying the X (NOT) gate, which flips $|0\\rangle$ to $|1\\rangle$, and then applying the Hadamard gate to $|1\\rangle$:\n",
    "\n",
    "  $|-\\rangle = H \\cdot X \\cdot |0\\rangle = \\frac{1}{\\sqrt{2}} (|0\\rangle - |1\\rangle)$"
   ]
  },
  {
   "cell_type": "code",
   "execution_count": 2,
   "metadata": {},
   "outputs": [],
   "source": [
    "from classiq import *\n",
    "def prepare_minus(target: Output[QBit]):\n",
    "    allocate(out=target, num_qubits=1)\n",
    "\n",
    "    # Apply X gate to flip the qubit\n",
    "    # Apply Hadamard gate to create the |-> state\n",
    "\n",
    "    ### Your Answer ###\n",
    "    X(target)\n",
    "    H(target)\n",
    "    ###################"
   ]
  },
  {
   "cell_type": "markdown",
   "metadata": {},
   "source": [
    "### **Step 2: Defining the Oracle Function**\n",
    "\n",
    "The next step is to define an oracle function that will control the phase kickback. The oracle function checks if the input $ x $ equals a certain value (in this case, 1). If $ x = 1 $, the function will flip the phase of the target qubit, creating the desired phase kickback effect.\n",
    "\n",
    "#### **Mathematical Concept:**\n",
    "\n",
    "The oracle function is designed to perform the following transformation:\n",
    "\n",
    "$\n",
    "O_f(|x\\rangle|-\\rangle) = (-1)^{f(x)} |x\\rangle \\frac{1}{\\sqrt{2}} \\left( |0\\rangle - |1\\rangle \\right)\n",
    "$\n",
    "\n",
    "where $ f(x) $ is 1 if $ x = 1 $ and 0 otherwise.\n",
    "\n",
    "#### **Explanation:**\n",
    "\n",
    "- The oracle applies a phase flip (multiplies by -1) to the target qubit if $ x = 1 $.\n",
    "- When $ x = 1 $, the state of the target qubit $ |-\\rangle = \\frac{1}{\\sqrt{2}} \\left( |0\\rangle - |1\\rangle \\right) $ will acquire a phase flip, effectively changing the sign of the qubit’s state.\n"
   ]
  },
  {
   "cell_type": "code",
   "execution_count": 4,
   "metadata": {},
   "outputs": [],
   "source": [
    "@qfunc\n",
    "def oracle_function(target: QBit, x: QNum):\n",
    "\n",
    "    ### Your Answer ###\n",
    "    target ^= (x == 0)\n",
    "    ###################"
   ]
  },
  {
   "cell_type": "markdown",
   "metadata": {},
   "source": [
    "### **Step 3: Combining the Building Blocks with Phase Kickback**\n",
    "\n",
    "Now, you will combine the `prepare_minus` function with the `oracle_function` to implement the phase kickback. This step will apply the phase kickback to the quantum state.\n",
    "\n",
    "**Mathematical Concept:**\n",
    "- The phase kickback is achieved by applying the oracle to the target state:\n",
    "  $\n",
    "  O_f(|x\\rangle|-\\rangle) = (-1)^{f(x)}|x\\rangle|-\\rangle\n",
    "  $"
   ]
  },
  {
   "cell_type": "code",
   "execution_count": 5,
   "metadata": {},
   "outputs": [],
   "source": [
    "@qfunc\n",
    "def oracle_phase_kickback(x: QNum):\n",
    "    target = QBit(\"target\")\n",
    "    within_apply(\n",
    "        within=lambda: prepare_minus(target), \n",
    "        apply=lambda: oracle_function(target, x)\n",
    "    )"
   ]
  },
  {
   "cell_type": "markdown",
   "metadata": {},
   "source": [
    "### **Step 4: Constructing the Main Quantum Circuit**\n",
    "\n",
    "Finally, you will construct the main quantum circuit. This circuit will initialize the qubits, apply the Hadamard transformation to create superpositions, and then apply the phase kickback to the system.\n",
    "\n",
    "**Mathematical Concept:**\n",
    "- Applying the Hadamard transformation to the input qubits:\n",
    "  $\n",
    "  H|x\\rangle = \\frac{1}{\\sqrt{2}}(|0\\rangle + |1\\rangle)\n",
    "  $\n",
    "- Followed by applying the phase kickback to each superposition state.\n"
   ]
  },
  {
   "cell_type": "code",
   "execution_count": 19,
   "metadata": {},
   "outputs": [],
   "source": [
    "@qfunc\n",
    "def main(x: Output[QNum]):\n",
    "    allocate(num_qubits=4, out=x)  # Allocate 4 qubits for the quantum register\n",
    "\n",
    "    # Apply Hadamard transformation to all qubits\n",
    "\n",
    "    ### Your Answer ###\n",
    "\n",
    "    ################### \n",
    "\n",
    "    # Apply the phase kickback operation on x\n",
    "\n",
    "    ### Your Answer ###\n",
    "\n",
    "    ################### "
   ]
  },
  {
   "cell_type": "markdown",
   "metadata": {},
   "source": [
    "By completing these steps, you have successfully constructed a quantum circuit that leverages the phase kickback effect. This circuit can be used as a building block in more complex quantum algorithms like the Deutsch-Jozsa algorithm, where identifying phase shifts in superposition states is key to extracting meaningful information.\n",
    "\n",
    "Now, synthesize and run your quantum circuit to observe the phase kickback in action!"
   ]
  },
  {
   "cell_type": "code",
   "execution_count": 20,
   "metadata": {},
   "outputs": [
    {
     "ename": "TypeError",
     "evalue": "'TypeVar' object is not callable",
     "output_type": "error",
     "traceback": [
      "\u001b[0;31m---------------------------------------------------------------------------\u001b[0m",
      "\u001b[0;31mTypeError\u001b[0m                                 Traceback (most recent call last)",
      "Cell \u001b[0;32mIn [20], line 3\u001b[0m\n\u001b[1;32m      1\u001b[0m \u001b[38;5;28;01mfrom\u001b[39;00m \u001b[38;5;21;01mclassiq\u001b[39;00m \u001b[38;5;28;01mimport\u001b[39;00m \u001b[38;5;241m*\u001b[39m\n\u001b[0;32m----> 3\u001b[0m qmod \u001b[38;5;241m=\u001b[39m \u001b[43mcreate_model\u001b[49m\u001b[43m(\u001b[49m\u001b[43mmain\u001b[49m\u001b[43m)\u001b[49m\n\u001b[1;32m      4\u001b[0m qprog \u001b[38;5;241m=\u001b[39m synthesize(qmod)\n\u001b[1;32m      5\u001b[0m show(qprog)\n",
      "File \u001b[0;32m/opt/homebrew/Caskroom/miniforge/base/envs/classiq/lib/python3.11/site-packages/classiq/qmod/create_model_function.py:78\u001b[0m, in \u001b[0;36mcreate_model\u001b[0;34m(entry_point, constraints, execution_preferences, preferences, classical_execution_function, out_file)\u001b[0m\n\u001b[1;32m     76\u001b[0m     \u001b[38;5;28;01mif\u001b[39;00m TYPE_CHECKING:\n\u001b[1;32m     77\u001b[0m         \u001b[38;5;28;01massert\u001b[39;00m \u001b[38;5;28misinstance\u001b[39m(entry_point, QFunc)\n\u001b[0;32m---> 78\u001b[0m     model \u001b[38;5;241m=\u001b[39m \u001b[43mentry_point\u001b[49m\u001b[38;5;241;43m.\u001b[39;49m\u001b[43mcreate_model\u001b[49m\u001b[43m(\u001b[49m\n\u001b[1;32m     79\u001b[0m \u001b[43m        \u001b[49m\u001b[43mconstraints\u001b[49m\u001b[43m,\u001b[49m\n\u001b[1;32m     80\u001b[0m \u001b[43m        \u001b[49m\u001b[43mexecution_preferences\u001b[49m\u001b[43m,\u001b[49m\n\u001b[1;32m     81\u001b[0m \u001b[43m        \u001b[49m\u001b[43mpreferences\u001b[49m\u001b[43m,\u001b[49m\n\u001b[1;32m     82\u001b[0m \u001b[43m        \u001b[49m\u001b[43mclassical_execution_function\u001b[49m\u001b[43m,\u001b[49m\n\u001b[1;32m     83\u001b[0m \u001b[43m    \u001b[49m\u001b[43m)\u001b[49m\n\u001b[1;32m     84\u001b[0m result \u001b[38;5;241m=\u001b[39m model\u001b[38;5;241m.\u001b[39mget_model()\n\u001b[1;32m     86\u001b[0m \u001b[38;5;28;01mif\u001b[39;00m out_file \u001b[38;5;129;01mis\u001b[39;00m \u001b[38;5;129;01mnot\u001b[39;00m \u001b[38;5;28;01mNone\u001b[39;00m:\n",
      "File \u001b[0;32m/opt/homebrew/Caskroom/miniforge/base/envs/classiq/lib/python3.11/site-packages/classiq/qmod/quantum_function.py:60\u001b[0m, in \u001b[0;36mQFunc.create_model\u001b[0;34m(self, constraints, execution_preferences, preferences, classical_execution_function)\u001b[0m\n\u001b[1;32m     58\u001b[0m \u001b[38;5;28mself\u001b[39m\u001b[38;5;241m.\u001b[39m_qmodule\u001b[38;5;241m.\u001b[39mconstants \u001b[38;5;241m=\u001b[39m \u001b[38;5;28mdict\u001b[39m()\n\u001b[1;32m     59\u001b[0m QConstant\u001b[38;5;241m.\u001b[39mset_current_model(\u001b[38;5;28mself\u001b[39m\u001b[38;5;241m.\u001b[39m_qmodule)\n\u001b[0;32m---> 60\u001b[0m \u001b[38;5;28;43mself\u001b[39;49m\u001b[38;5;241;43m.\u001b[39;49m\u001b[43mexpand\u001b[49m\u001b[43m(\u001b[49m\u001b[43m)\u001b[49m\n\u001b[1;32m     61\u001b[0m model_extra_settings: List[Tuple[\u001b[38;5;28mstr\u001b[39m, Any]] \u001b[38;5;241m=\u001b[39m [\n\u001b[1;32m     62\u001b[0m     (\u001b[38;5;124m\"\u001b[39m\u001b[38;5;124mconstraints\u001b[39m\u001b[38;5;124m\"\u001b[39m, constraints),\n\u001b[1;32m     63\u001b[0m     (\u001b[38;5;124m\"\u001b[39m\u001b[38;5;124mexecution_preferences\u001b[39m\u001b[38;5;124m\"\u001b[39m, execution_preferences),\n\u001b[1;32m     64\u001b[0m     (\u001b[38;5;124m\"\u001b[39m\u001b[38;5;124mpreferences\u001b[39m\u001b[38;5;124m\"\u001b[39m, preferences),\n\u001b[1;32m     65\u001b[0m ]\n\u001b[1;32m     66\u001b[0m \u001b[38;5;28;01mif\u001b[39;00m classical_execution_function \u001b[38;5;129;01mis\u001b[39;00m \u001b[38;5;129;01mnot\u001b[39;00m \u001b[38;5;28;01mNone\u001b[39;00m:\n",
      "File \u001b[0;32m/opt/homebrew/Caskroom/miniforge/base/envs/classiq/lib/python3.11/site-packages/classiq/qmod/quantum_function.py:83\u001b[0m, in \u001b[0;36mQFunc.expand\u001b[0;34m(self)\u001b[0m\n\u001b[1;32m     81\u001b[0m \u001b[38;5;28;01mif\u001b[39;00m \u001b[38;5;28mself\u001b[39m\u001b[38;5;241m.\u001b[39mfunc_decl\u001b[38;5;241m.\u001b[39mname \u001b[38;5;129;01min\u001b[39;00m \u001b[38;5;28mself\u001b[39m\u001b[38;5;241m.\u001b[39m_qmodule\u001b[38;5;241m.\u001b[39mnative_defs:\n\u001b[1;32m     82\u001b[0m     \u001b[38;5;28;01mreturn\u001b[39;00m\n\u001b[0;32m---> 83\u001b[0m \u001b[38;5;28;43msuper\u001b[39;49m\u001b[43m(\u001b[49m\u001b[43m)\u001b[49m\u001b[38;5;241;43m.\u001b[39;49m\u001b[43mexpand\u001b[49m\u001b[43m(\u001b[49m\u001b[43m)\u001b[49m\n\u001b[1;32m     84\u001b[0m \u001b[38;5;28mself\u001b[39m\u001b[38;5;241m.\u001b[39m_qmodule\u001b[38;5;241m.\u001b[39mnative_defs[\u001b[38;5;28mself\u001b[39m\u001b[38;5;241m.\u001b[39mfunc_decl\u001b[38;5;241m.\u001b[39mname] \u001b[38;5;241m=\u001b[39m NativeFunctionDefinition(\n\u001b[1;32m     85\u001b[0m     \u001b[38;5;241m*\u001b[39m\u001b[38;5;241m*\u001b[39m{\u001b[38;5;241m*\u001b[39m\u001b[38;5;241m*\u001b[39m\u001b[38;5;28mself\u001b[39m\u001b[38;5;241m.\u001b[39mfunc_decl\u001b[38;5;241m.\u001b[39mdict(), \u001b[38;5;241m*\u001b[39m\u001b[38;5;241m*\u001b[39m{\u001b[38;5;124m\"\u001b[39m\u001b[38;5;124mbody\u001b[39m\u001b[38;5;124m\"\u001b[39m: \u001b[38;5;28mself\u001b[39m\u001b[38;5;241m.\u001b[39mbody}}\n\u001b[1;32m     86\u001b[0m )\n",
      "File \u001b[0;32m/opt/homebrew/Caskroom/miniforge/base/envs/classiq/lib/python3.11/site-packages/classiq/qmod/quantum_expandable.py:103\u001b[0m, in \u001b[0;36mQExpandable.expand\u001b[0;34m(self)\u001b[0m\n\u001b[1;32m    101\u001b[0m \u001b[38;5;28;01mif\u001b[39;00m \u001b[38;5;28mself\u001b[39m \u001b[38;5;129;01mnot\u001b[39;00m \u001b[38;5;129;01min\u001b[39;00m QExpandable\u001b[38;5;241m.\u001b[39mSTACK:\n\u001b[1;32m    102\u001b[0m     \u001b[38;5;28;01mwith\u001b[39;00m \u001b[38;5;28mself\u001b[39m, generative_mode_context(\u001b[38;5;28;01mFalse\u001b[39;00m):\n\u001b[0;32m--> 103\u001b[0m         \u001b[38;5;28;43mself\u001b[39;49m\u001b[38;5;241;43m.\u001b[39;49m\u001b[43m_py_callable\u001b[49m\u001b[43m(\u001b[49m\u001b[38;5;241;43m*\u001b[39;49m\u001b[38;5;28;43mself\u001b[39;49m\u001b[38;5;241;43m.\u001b[39;49m\u001b[43m_get_positional_args\u001b[49m\u001b[43m(\u001b[49m\u001b[43m)\u001b[49m\u001b[43m)\u001b[49m\n",
      "Cell \u001b[0;32mIn [19], line 7\u001b[0m, in \u001b[0;36mmain\u001b[0;34m()\u001b[0m\n\u001b[1;32m      4\u001b[0m \u001b[38;5;129m@qfunc\u001b[39m\n\u001b[1;32m      5\u001b[0m \u001b[38;5;28;01mdef\u001b[39;00m \u001b[38;5;21mmain\u001b[39m():\n\u001b[1;32m      6\u001b[0m     \u001b[38;5;66;03m# Define x as an Output variable for a list of qubits\u001b[39;00m\n\u001b[0;32m----> 7\u001b[0m     x \u001b[38;5;241m=\u001b[39m \u001b[43mOutput\u001b[49m\u001b[43m(\u001b[49m\u001b[43m)\u001b[49m \n\u001b[1;32m      9\u001b[0m     \u001b[38;5;66;03m# Allocate 4 qubits for the quantum register\u001b[39;00m\n\u001b[1;32m     10\u001b[0m     allocate(num_qubits\u001b[38;5;241m=\u001b[39m\u001b[38;5;241m4\u001b[39m, out\u001b[38;5;241m=\u001b[39mx)\n",
      "File \u001b[0;32m/opt/homebrew/Caskroom/miniforge/base/envs/classiq/lib/python3.11/typing.py:1251\u001b[0m, in \u001b[0;36m_BaseGenericAlias.__call__\u001b[0;34m(self, *args, **kwargs)\u001b[0m\n\u001b[1;32m   1248\u001b[0m \u001b[38;5;28;01mif\u001b[39;00m \u001b[38;5;129;01mnot\u001b[39;00m \u001b[38;5;28mself\u001b[39m\u001b[38;5;241m.\u001b[39m_inst:\n\u001b[1;32m   1249\u001b[0m     \u001b[38;5;28;01mraise\u001b[39;00m \u001b[38;5;167;01mTypeError\u001b[39;00m(\u001b[38;5;124mf\u001b[39m\u001b[38;5;124m\"\u001b[39m\u001b[38;5;124mType \u001b[39m\u001b[38;5;132;01m{\u001b[39;00m\u001b[38;5;28mself\u001b[39m\u001b[38;5;241m.\u001b[39m_name\u001b[38;5;132;01m}\u001b[39;00m\u001b[38;5;124m cannot be instantiated; \u001b[39m\u001b[38;5;124m\"\u001b[39m\n\u001b[1;32m   1250\u001b[0m                     \u001b[38;5;124mf\u001b[39m\u001b[38;5;124m\"\u001b[39m\u001b[38;5;124muse \u001b[39m\u001b[38;5;132;01m{\u001b[39;00m\u001b[38;5;28mself\u001b[39m\u001b[38;5;241m.\u001b[39m__origin__\u001b[38;5;241m.\u001b[39m\u001b[38;5;18m__name__\u001b[39m\u001b[38;5;132;01m}\u001b[39;00m\u001b[38;5;124m() instead\u001b[39m\u001b[38;5;124m\"\u001b[39m)\n\u001b[0;32m-> 1251\u001b[0m result \u001b[38;5;241m=\u001b[39m \u001b[38;5;28;43mself\u001b[39;49m\u001b[38;5;241;43m.\u001b[39;49m\u001b[43m__origin__\u001b[49m\u001b[43m(\u001b[49m\u001b[38;5;241;43m*\u001b[39;49m\u001b[43margs\u001b[49m\u001b[43m,\u001b[49m\u001b[43m \u001b[49m\u001b[38;5;241;43m*\u001b[39;49m\u001b[38;5;241;43m*\u001b[39;49m\u001b[43mkwargs\u001b[49m\u001b[43m)\u001b[49m\n\u001b[1;32m   1252\u001b[0m \u001b[38;5;28;01mtry\u001b[39;00m:\n\u001b[1;32m   1253\u001b[0m     result\u001b[38;5;241m.\u001b[39m__orig_class__ \u001b[38;5;241m=\u001b[39m \u001b[38;5;28mself\u001b[39m\n",
      "\u001b[0;31mTypeError\u001b[0m: 'TypeVar' object is not callable"
     ]
    }
   ],
   "source": [
    "from classiq import *\n",
    "\n",
    "qmod = create_model(main)\n",
    "qprog = synthesize(qmod)\n",
    "show(qprog)"
   ]
  },
  {
   "cell_type": "markdown",
   "metadata": {},
   "source": [
    "#### Finally, Excute Your Programme"
   ]
  },
  {
   "cell_type": "code",
   "execution_count": null,
   "metadata": {},
   "outputs": [],
   "source": [
    "# This will run the quantum program and output the results directly in your Python environment.\n",
    "job = execute(qprog)\n",
    "results = job.result()[0].value.parsed_counts\n",
    "print(results)"
   ]
  },
  {
   "cell_type": "markdown",
   "metadata": {},
   "source": [
    "### Now save the QASM file for Grading!"
   ]
  },
  {
   "cell_type": "code",
   "execution_count": null,
   "metadata": {},
   "outputs": [],
   "source": [
    "qasm = QuantumProgram.from_qprog(qprog).qasm\n",
    "\n",
    "# Specify the file path where you want to save the QASM file\n",
    "file_path = \"qsite_challenge_2.qasm\"\n",
    "\n",
    "# Save the QASM string to a file\n",
    "with open(file_path, 'w') as file:\n",
    "    file.write(qasm)\n",
    "\n",
    "print(f\"QASM file saved at: {file_path}\")"
   ]
  },
  {
   "cell_type": "markdown",
   "metadata": {},
   "source": [
    "\n",
    "### **Save Your Quantum Model**\n",
    "\n",
    "🎉 Finally, save your quantum model for future use:"
   ]
  },
  {
   "cell_type": "code",
   "execution_count": null,
   "metadata": {},
   "outputs": [],
   "source": [
    "write_qmod(create_model(main), \"qsite_challenge_2\")"
   ]
  },
  {
   "cell_type": "markdown",
   "metadata": {},
   "source": [
    "## Additional information\n",
    "\n",
    "#### Created by : Louis Chen\n",
    "\n",
    "#### Advised by : Tali Cohn, Eden Schirman  "
   ]
  },
  {
   "cell_type": "markdown",
   "metadata": {},
   "source": []
  }
 ],
 "metadata": {
  "kernelspec": {
   "display_name": "Python 3 (ipykernel)",
   "language": "python",
   "name": "python3"
  },
  "language_info": {
   "codemirror_mode": {
    "name": "ipython",
    "version": 3
   },
   "file_extension": ".py",
   "mimetype": "text/x-python",
   "name": "python",
   "nbconvert_exporter": "python",
   "pygments_lexer": "ipython3",
   "version": "3.11.0"
  }
 },
 "nbformat": 4,
 "nbformat_minor": 4
}
